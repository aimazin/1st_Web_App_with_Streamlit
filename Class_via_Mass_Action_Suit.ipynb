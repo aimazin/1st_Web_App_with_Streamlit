{
  "cells": [
    {
      "cell_type": "markdown",
      "metadata": {
        "id": "view-in-github",
        "colab_type": "text"
      },
      "source": [
        "<a href=\"https://colab.research.google.com/github/aimazin/1st_Web_App_with_Streamlit/blob/main/Class_via_Mass_Action_Suit.ipynb\" target=\"_parent\"><img src=\"https://colab.research.google.com/assets/colab-badge.svg\" alt=\"Open In Colab\"/></a>"
      ]
    },
    {
      "cell_type": "markdown",
      "id": "659822e7",
      "metadata": {
        "id": "659822e7"
      },
      "source": [
        "# Class Action Suit (Swedish: Koppleri)"
      ]
    },
    {
      "cell_type": "code",
      "execution_count": 1,
      "id": "37b2b222",
      "metadata": {
        "id": "37b2b222"
      },
      "outputs": [],
      "source": [
        "import pandas as pd\n",
        "import numpy as np\n",
        "import matplotlib.pyplot as plt"
      ]
    },
    {
      "cell_type": "code",
      "execution_count": null,
      "id": "f9e7ddf9",
      "metadata": {
        "id": "f9e7ddf9"
      },
      "outputs": [],
      "source": [
        "#p=Ce^(S/k),sales-expanses=income,inkomstpq"
      ]
    },
    {
      "cell_type": "code",
      "execution_count": 5,
      "id": "6d825736",
      "metadata": {
        "id": "6d825736"
      },
      "outputs": [],
      "source": [
        "# perpetrators have these traites incommon\n",
        "T=range(0,100)#temptation to a degree\n",
        "S=np.array(T)#neglect, disorder\n",
        "k=1#false confidence,falsk fortroende\n",
        "C=-1 #J(J-1),conscent, medgelse"
      ]
    },
    {
      "cell_type": "code",
      "execution_count": 3,
      "id": "1a4c7067",
      "metadata": {
        "id": "1a4c7067"
      },
      "outputs": [],
      "source": [
        "p=C*np.exp(S/k)#persistent behaviour,forsummning av betende"
      ]
    },
    {
      "cell_type": "code",
      "execution_count": 6,
      "id": "76dcf8e1",
      "metadata": {
        "colab": {
          "base_uri": "https://localhost:8080/",
          "height": 295
        },
        "id": "76dcf8e1",
        "outputId": "8506368c-e664-4043-d253-e22f6bb8cebb"
      },
      "outputs": [
        {
          "output_type": "display_data",
          "data": {
            "text/plain": [
              "<Figure size 432x288 with 1 Axes>"
            ],
            "image/png": "[encoded data removed]"
          },
          "metadata": {
            "needs_background": "light"
          }
        }
      ],
      "source": [
        "plt.plot(np.array(l),p)\n",
        "plt.title('IncomeCertainty/InkomstSertifiering')\n",
        "plt.ylabel('nature')\n",
        "plt.xlabel('degree')\n",
        "plt.show()"
      ]
    }
  ],
  "metadata": {
    "kernelspec": {
      "display_name": "Python 3 (ipykernel)",
      "language": "python",
      "name": "python3"
    },
    "language_info": {
      "codemirror_mode": {
        "name": "ipython",
        "version": 3
      },
      "file_extension": ".py",
      "mimetype": "text/x-python",
      "name": "python",
      "nbconvert_exporter": "python",
      "pygments_lexer": "ipython3",
      "version": "3.8.13"
    },
    "colab": {
      "provenance": [],
      "include_colab_link": true
    }
  },
  "nbformat": 4,
  "nbformat_minor": 5
}